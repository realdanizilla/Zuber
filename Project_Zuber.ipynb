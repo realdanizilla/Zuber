{
    "cells": [
        {
            "cell_type": "code",
            "execution_count": 62,
            "metadata": {},
            "outputs": [],
            "source": [
                "# importando as bibliotecas\n",
                "import pandas as pd\n",
                "import numpy as np\n",
                "from matplotlib import pyplot as plt\n",
                "from scipy import stats as st"
            ]
        },
        {
            "cell_type": "code",
            "execution_count": 5,
            "metadata": {},
            "outputs": [],
            "source": [
                "# carregando os arquivos e gerando os dataframes\n",
                "trips_amount = pd.read_csv('/datasets/project_sql_result_01.csv')\n",
                "neighborhoods = pd.read_csv('/datasets/project_sql_result_04.csv')"
            ]
        },
        {
            "cell_type": "code",
            "execution_count": 24,
            "metadata": {
                "scrolled": true
            },
            "outputs": [
                {
                    "data": {
                        "text/html": [
                            "<div>\n",
                            "<style scoped>\n",
                            "    .dataframe tbody tr th:only-of-type {\n",
                            "        vertical-align: middle;\n",
                            "    }\n",
                            "\n",
                            "    .dataframe tbody tr th {\n",
                            "        vertical-align: top;\n",
                            "    }\n",
                            "\n",
                            "    .dataframe thead th {\n",
                            "        text-align: right;\n",
                            "    }\n",
                            "</style>\n",
                            "<table border=\"1\" class=\"dataframe\">\n",
                            "  <thead>\n",
                            "    <tr style=\"text-align: right;\">\n",
                            "      <th></th>\n",
                            "      <th>company_name</th>\n",
                            "      <th>trips_amount</th>\n",
                            "    </tr>\n",
                            "  </thead>\n",
                            "  <tbody>\n",
                            "    <tr>\n",
                            "      <th>58</th>\n",
                            "      <td>5062 - 34841 Sam Mestas</td>\n",
                            "      <td>8</td>\n",
                            "    </tr>\n",
                            "    <tr>\n",
                            "      <th>61</th>\n",
                            "      <td>5874 - 73628 Sergey Cab Corp.</td>\n",
                            "      <td>5</td>\n",
                            "    </tr>\n",
                            "    <tr>\n",
                            "      <th>32</th>\n",
                            "      <td>Leonard Cab Co</td>\n",
                            "      <td>147</td>\n",
                            "    </tr>\n",
                            "    <tr>\n",
                            "      <th>38</th>\n",
                            "      <td>6743 - 78771 Luhak Corp</td>\n",
                            "      <td>33</td>\n",
                            "    </tr>\n",
                            "    <tr>\n",
                            "      <th>3</th>\n",
                            "      <td>Yellow Cab</td>\n",
                            "      <td>9888</td>\n",
                            "    </tr>\n",
                            "    <tr>\n",
                            "      <th>31</th>\n",
                            "      <td>American United Taxi Affiliation</td>\n",
                            "      <td>210</td>\n",
                            "    </tr>\n",
                            "    <tr>\n",
                            "      <th>16</th>\n",
                            "      <td>Blue Diamond</td>\n",
                            "      <td>2070</td>\n",
                            "    </tr>\n",
                            "    <tr>\n",
                            "      <th>54</th>\n",
                            "      <td>2192 - 73487 Zeymane Corp</td>\n",
                            "      <td>14</td>\n",
                            "    </tr>\n",
                            "    <tr>\n",
                            "      <th>62</th>\n",
                            "      <td>2241 - 44667 - Felman Corp</td>\n",
                            "      <td>3</td>\n",
                            "    </tr>\n",
                            "    <tr>\n",
                            "      <th>14</th>\n",
                            "      <td>Patriot Taxi Dba Peace Taxi Association</td>\n",
                            "      <td>2235</td>\n",
                            "    </tr>\n",
                            "  </tbody>\n",
                            "</table>\n",
                            "</div>"
                        ],
                        "text/plain": [
                            "                               company_name  trips_amount\n",
                            "58                  5062 - 34841 Sam Mestas             8\n",
                            "61            5874 - 73628 Sergey Cab Corp.             5\n",
                            "32                           Leonard Cab Co           147\n",
                            "38                  6743 - 78771 Luhak Corp            33\n",
                            "3                                Yellow Cab          9888\n",
                            "31         American United Taxi Affiliation           210\n",
                            "16                             Blue Diamond          2070\n",
                            "54                2192 - 73487 Zeymane Corp            14\n",
                            "62               2241 - 44667 - Felman Corp             3\n",
                            "14  Patriot Taxi Dba Peace Taxi Association          2235"
                        ]
                    },
                    "execution_count": 24,
                    "metadata": {},
                    "output_type": "execute_result"
                }
            ],
            "source": [
                "# visualizando os dados de trips_amount\n",
                "trips_amount.sample(10)\n",
                "\n",
                "# trips_amount: o número de corridas para cada empresa de táxi de 15 a 16 de novembro de 2017."
            ]
        },
        {
            "cell_type": "code",
            "execution_count": 12,
            "metadata": {
                "scrolled": true
            },
            "outputs": [
                {
                    "name": "stdout",
                    "output_type": "stream",
                    "text": [
                        "<class 'pandas.core.frame.DataFrame'>\n",
                        "RangeIndex: 64 entries, 0 to 63\n",
                        "Data columns (total 2 columns):\n",
                        " #   Column        Non-Null Count  Dtype \n",
                        "---  ------        --------------  ----- \n",
                        " 0   company_name  64 non-null     object\n",
                        " 1   trips_amount  64 non-null     int64 \n",
                        "dtypes: int64(1), object(1)\n",
                        "memory usage: 1.1+ KB\n"
                    ]
                }
            ],
            "source": [
                "# visualizando os tipos de dados\n",
                "trips_amount.info()"
            ]
        },
        {
            "cell_type": "markdown",
            "metadata": {},
            "source": [
                "Conclusion: Data types are correct, but company_name should be a string (object) and trips_amount should be an integer (int)."
            ]
        },
        {
            "cell_type": "code",
            "execution_count": 8,
            "metadata": {},
            "outputs": [
                {
                    "data": {
                        "text/html": [
                            "<div>\n",
                            "<style scoped>\n",
                            "    .dataframe tbody tr th:only-of-type {\n",
                            "        vertical-align: middle;\n",
                            "    }\n",
                            "\n",
                            "    .dataframe tbody tr th {\n",
                            "        vertical-align: top;\n",
                            "    }\n",
                            "\n",
                            "    .dataframe thead th {\n",
                            "        text-align: right;\n",
                            "    }\n",
                            "</style>\n",
                            "<table border=\"1\" class=\"dataframe\">\n",
                            "  <thead>\n",
                            "    <tr style=\"text-align: right;\">\n",
                            "      <th></th>\n",
                            "      <th>dropoff_location_name</th>\n",
                            "      <th>average_trips</th>\n",
                            "    </tr>\n",
                            "  </thead>\n",
                            "  <tbody>\n",
                            "    <tr>\n",
                            "      <th>36</th>\n",
                            "      <td>Kenwood</td>\n",
                            "      <td>89.366667</td>\n",
                            "    </tr>\n",
                            "    <tr>\n",
                            "      <th>8</th>\n",
                            "      <td>Gold Coast</td>\n",
                            "      <td>1364.233333</td>\n",
                            "    </tr>\n",
                            "    <tr>\n",
                            "      <th>65</th>\n",
                            "      <td>Ashburn</td>\n",
                            "      <td>16.133333</td>\n",
                            "    </tr>\n",
                            "    <tr>\n",
                            "      <th>83</th>\n",
                            "      <td>Avalon Park</td>\n",
                            "      <td>6.966667</td>\n",
                            "    </tr>\n",
                            "    <tr>\n",
                            "      <th>43</th>\n",
                            "      <td>Mckinley Park</td>\n",
                            "      <td>64.033333</td>\n",
                            "    </tr>\n",
                            "    <tr>\n",
                            "      <th>59</th>\n",
                            "      <td>Chatham</td>\n",
                            "      <td>23.200000</td>\n",
                            "    </tr>\n",
                            "    <tr>\n",
                            "      <th>71</th>\n",
                            "      <td>Edison Park</td>\n",
                            "      <td>14.166667</td>\n",
                            "    </tr>\n",
                            "    <tr>\n",
                            "      <th>31</th>\n",
                            "      <td>Lower West Side</td>\n",
                            "      <td>143.300000</td>\n",
                            "    </tr>\n",
                            "    <tr>\n",
                            "      <th>0</th>\n",
                            "      <td>Loop</td>\n",
                            "      <td>10727.466667</td>\n",
                            "    </tr>\n",
                            "    <tr>\n",
                            "      <th>56</th>\n",
                            "      <td>Ukrainian Village</td>\n",
                            "      <td>27.600000</td>\n",
                            "    </tr>\n",
                            "  </tbody>\n",
                            "</table>\n",
                            "</div>"
                        ],
                        "text/plain": [
                            "   dropoff_location_name  average_trips\n",
                            "36               Kenwood      89.366667\n",
                            "8             Gold Coast    1364.233333\n",
                            "65               Ashburn      16.133333\n",
                            "83           Avalon Park       6.966667\n",
                            "43         Mckinley Park      64.033333\n",
                            "59               Chatham      23.200000\n",
                            "71           Edison Park      14.166667\n",
                            "31       Lower West Side     143.300000\n",
                            "0                   Loop   10727.466667\n",
                            "56     Ukrainian Village      27.600000"
                        ]
                    },
                    "execution_count": 8,
                    "metadata": {},
                    "output_type": "execute_result"
                }
            ],
            "source": [
                "# visualizando os dados de neighborhoods\n",
                "neighborhoods.sample(10)\n",
                "\n",
                "# dropoff_location_name: bairros de Chicago onde as corridas terminaram\n",
                "# average_trips: o número médio de viagens que terminaram em cada bairro em novembro de 2017."
            ]
        },
        {
            "cell_type": "code",
            "execution_count": 13,
            "metadata": {
                "scrolled": true
            },
            "outputs": [
                {
                    "name": "stdout",
                    "output_type": "stream",
                    "text": [
                        "<class 'pandas.core.frame.DataFrame'>\n",
                        "RangeIndex: 94 entries, 0 to 93\n",
                        "Data columns (total 2 columns):\n",
                        " #   Column                 Non-Null Count  Dtype  \n",
                        "---  ------                 --------------  -----  \n",
                        " 0   dropoff_location_name  94 non-null     object \n",
                        " 1   average_trips          94 non-null     float64\n",
                        "dtypes: float64(1), object(1)\n",
                        "memory usage: 1.6+ KB\n"
                    ]
                }
            ],
            "source": [
                "# visualizando os tipos de dados\n",
                "neighborhoods.info()"
            ]
        },
        {
            "cell_type": "code",
            "execution_count": 15,
            "metadata": {},
            "outputs": [
                {
                    "data": {
                        "text/plain": [
                            "False"
                        ]
                    },
                    "execution_count": 15,
                    "metadata": {},
                    "output_type": "execute_result"
                }
            ],
            "source": [
                "# verificando se haverá perda de dados ao converter average_trips para int\n",
                "np.array_equal(neighborhoods['average_trips'], neighborhoods['average_trips'].astype('int'))"
            ]
        },
        {
            "cell_type": "markdown",
            "metadata": {},
            "source": [
                "Conclusion: There will be differences if we convert average_trips to an integer; we need to round it first."
            ]
        },
        {
            "cell_type": "code",
            "execution_count": 16,
            "metadata": {},
            "outputs": [
                {
                    "data": {
                        "text/plain": [
                            "True"
                        ]
                    },
                    "execution_count": 16,
                    "metadata": {},
                    "output_type": "execute_result"
                }
            ],
            "source": [
                "# arredondando average_trips para zero casas decimais\n",
                "neighborhoods['average_trips'] = neighborhoods['average_trips'].round(0)\n",
                "\n",
                "# verificando novamente se haverá perda de dados ao converter average_trips para int após arredondamento\n",
                "np.array_equal(neighborhoods['average_trips'], neighborhoods['average_trips'].astype('int'))\n"
            ]
        },
        {
            "cell_type": "markdown",
            "metadata": {},
            "source": [
                "Conclusion: Now we can convert to integer without differences"
            ]
        },
        {
            "cell_type": "code",
            "execution_count": 17,
            "metadata": {
                "scrolled": true
            },
            "outputs": [
                {
                    "name": "stdout",
                    "output_type": "stream",
                    "text": [
                        "<class 'pandas.core.frame.DataFrame'>\n",
                        "RangeIndex: 94 entries, 0 to 93\n",
                        "Data columns (total 2 columns):\n",
                        " #   Column                 Non-Null Count  Dtype \n",
                        "---  ------                 --------------  ----- \n",
                        " 0   dropoff_location_name  94 non-null     object\n",
                        " 1   average_trips          94 non-null     int64 \n",
                        "dtypes: int64(1), object(1)\n",
                        "memory usage: 1.6+ KB\n"
                    ]
                }
            ],
            "source": [
                "# convertendo average_trips para int\n",
                "neighborhoods[\"average_trips\"] = neighborhoods[\"average_trips\"].astype(int)\n",
                "neighborhoods.info()"
            ]
        },
        {
            "cell_type": "code",
            "execution_count": 18,
            "metadata": {},
            "outputs": [
                {
                    "data": {
                        "text/html": [
                            "<div>\n",
                            "<style scoped>\n",
                            "    .dataframe tbody tr th:only-of-type {\n",
                            "        vertical-align: middle;\n",
                            "    }\n",
                            "\n",
                            "    .dataframe tbody tr th {\n",
                            "        vertical-align: top;\n",
                            "    }\n",
                            "\n",
                            "    .dataframe thead th {\n",
                            "        text-align: right;\n",
                            "    }\n",
                            "</style>\n",
                            "<table border=\"1\" class=\"dataframe\">\n",
                            "  <thead>\n",
                            "    <tr style=\"text-align: right;\">\n",
                            "      <th></th>\n",
                            "      <th>dropoff_location_name</th>\n",
                            "      <th>average_trips</th>\n",
                            "    </tr>\n",
                            "  </thead>\n",
                            "  <tbody>\n",
                            "    <tr>\n",
                            "      <th>65</th>\n",
                            "      <td>Ashburn</td>\n",
                            "      <td>16</td>\n",
                            "    </tr>\n",
                            "    <tr>\n",
                            "      <th>58</th>\n",
                            "      <td>Englewood</td>\n",
                            "      <td>25</td>\n",
                            "    </tr>\n",
                            "    <tr>\n",
                            "      <th>83</th>\n",
                            "      <td>Avalon Park</td>\n",
                            "      <td>7</td>\n",
                            "    </tr>\n",
                            "    <tr>\n",
                            "      <th>91</th>\n",
                            "      <td>Burnside</td>\n",
                            "      <td>2</td>\n",
                            "    </tr>\n",
                            "    <tr>\n",
                            "      <th>88</th>\n",
                            "      <td>Undef</td>\n",
                            "      <td>4</td>\n",
                            "    </tr>\n",
                            "    <tr>\n",
                            "      <th>10</th>\n",
                            "      <td>Lincoln Park</td>\n",
                            "      <td>1247</td>\n",
                            "    </tr>\n",
                            "    <tr>\n",
                            "      <th>22</th>\n",
                            "      <td>Lincoln Square</td>\n",
                            "      <td>357</td>\n",
                            "    </tr>\n",
                            "    <tr>\n",
                            "      <th>42</th>\n",
                            "      <td>Garfield Park</td>\n",
                            "      <td>66</td>\n",
                            "    </tr>\n",
                            "    <tr>\n",
                            "      <th>37</th>\n",
                            "      <td>Bridgeport</td>\n",
                            "      <td>77</td>\n",
                            "    </tr>\n",
                            "    <tr>\n",
                            "      <th>0</th>\n",
                            "      <td>Loop</td>\n",
                            "      <td>10727</td>\n",
                            "    </tr>\n",
                            "  </tbody>\n",
                            "</table>\n",
                            "</div>"
                        ],
                        "text/plain": [
                            "   dropoff_location_name  average_trips\n",
                            "65               Ashburn             16\n",
                            "58             Englewood             25\n",
                            "83           Avalon Park              7\n",
                            "91              Burnside              2\n",
                            "88                 Undef              4\n",
                            "10          Lincoln Park           1247\n",
                            "22        Lincoln Square            357\n",
                            "42         Garfield Park             66\n",
                            "37            Bridgeport             77\n",
                            "0                   Loop          10727"
                        ]
                    },
                    "execution_count": 18,
                    "metadata": {},
                    "output_type": "execute_result"
                }
            ],
            "source": [
                "neighborhoods.sample(10)"
            ]
        },
        {
            "cell_type": "code",
            "execution_count": 19,
            "metadata": {},
            "outputs": [
                {
                    "data": {
                        "text/html": [
                            "<div>\n",
                            "<style scoped>\n",
                            "    .dataframe tbody tr th:only-of-type {\n",
                            "        vertical-align: middle;\n",
                            "    }\n",
                            "\n",
                            "    .dataframe tbody tr th {\n",
                            "        vertical-align: top;\n",
                            "    }\n",
                            "\n",
                            "    .dataframe thead th {\n",
                            "        text-align: right;\n",
                            "    }\n",
                            "</style>\n",
                            "<table border=\"1\" class=\"dataframe\">\n",
                            "  <thead>\n",
                            "    <tr style=\"text-align: right;\">\n",
                            "      <th></th>\n",
                            "      <th>dropoff_location_name</th>\n",
                            "      <th>average_trips</th>\n",
                            "    </tr>\n",
                            "  </thead>\n",
                            "  <tbody>\n",
                            "    <tr>\n",
                            "      <th>0</th>\n",
                            "      <td>Loop</td>\n",
                            "      <td>10727</td>\n",
                            "    </tr>\n",
                            "    <tr>\n",
                            "      <th>1</th>\n",
                            "      <td>River North</td>\n",
                            "      <td>9524</td>\n",
                            "    </tr>\n",
                            "    <tr>\n",
                            "      <th>2</th>\n",
                            "      <td>Streeterville</td>\n",
                            "      <td>6665</td>\n",
                            "    </tr>\n",
                            "    <tr>\n",
                            "      <th>3</th>\n",
                            "      <td>West Loop</td>\n",
                            "      <td>5164</td>\n",
                            "    </tr>\n",
                            "    <tr>\n",
                            "      <th>4</th>\n",
                            "      <td>O'Hare</td>\n",
                            "      <td>2547</td>\n",
                            "    </tr>\n",
                            "    <tr>\n",
                            "      <th>5</th>\n",
                            "      <td>Lake View</td>\n",
                            "      <td>2421</td>\n",
                            "    </tr>\n",
                            "    <tr>\n",
                            "      <th>6</th>\n",
                            "      <td>Grant Park</td>\n",
                            "      <td>2069</td>\n",
                            "    </tr>\n",
                            "    <tr>\n",
                            "      <th>7</th>\n",
                            "      <td>Museum Campus</td>\n",
                            "      <td>1510</td>\n",
                            "    </tr>\n",
                            "    <tr>\n",
                            "      <th>8</th>\n",
                            "      <td>Gold Coast</td>\n",
                            "      <td>1364</td>\n",
                            "    </tr>\n",
                            "    <tr>\n",
                            "      <th>9</th>\n",
                            "      <td>Sheffield &amp; DePaul</td>\n",
                            "      <td>1260</td>\n",
                            "    </tr>\n",
                            "  </tbody>\n",
                            "</table>\n",
                            "</div>"
                        ],
                        "text/plain": [
                            "  dropoff_location_name  average_trips\n",
                            "0                  Loop          10727\n",
                            "1           River North           9524\n",
                            "2         Streeterville           6665\n",
                            "3             West Loop           5164\n",
                            "4                O'Hare           2547\n",
                            "5             Lake View           2421\n",
                            "6            Grant Park           2069\n",
                            "7         Museum Campus           1510\n",
                            "8            Gold Coast           1364\n",
                            "9    Sheffield & DePaul           1260"
                        ]
                    },
                    "execution_count": 19,
                    "metadata": {},
                    "output_type": "execute_result"
                }
            ],
            "source": [
                "# verificando os top10 bairros em termos de destinos\n",
                "sorted_neighborhoods = neighborhoods.sort_values(by=\"average_trips\", ascending=False)\n",
                "sorted_neighborhoods.head(10)"
            ]
        },
        {
            "cell_type": "code",
            "execution_count": 28,
            "metadata": {},
            "outputs": [
                {
                    "data": {
                        "text/html": [
                            "<div>\n",
                            "<style scoped>\n",
                            "    .dataframe tbody tr th:only-of-type {\n",
                            "        vertical-align: middle;\n",
                            "    }\n",
                            "\n",
                            "    .dataframe tbody tr th {\n",
                            "        vertical-align: top;\n",
                            "    }\n",
                            "\n",
                            "    .dataframe thead th {\n",
                            "        text-align: right;\n",
                            "    }\n",
                            "</style>\n",
                            "<table border=\"1\" class=\"dataframe\">\n",
                            "  <thead>\n",
                            "    <tr style=\"text-align: right;\">\n",
                            "      <th></th>\n",
                            "      <th>company_name</th>\n",
                            "      <th>trips_amount</th>\n",
                            "    </tr>\n",
                            "  </thead>\n",
                            "  <tbody>\n",
                            "    <tr>\n",
                            "      <th>0</th>\n",
                            "      <td>Flash Cab</td>\n",
                            "      <td>19558</td>\n",
                            "    </tr>\n",
                            "    <tr>\n",
                            "      <th>1</th>\n",
                            "      <td>Taxi Affiliation Services</td>\n",
                            "      <td>11422</td>\n",
                            "    </tr>\n",
                            "    <tr>\n",
                            "      <th>2</th>\n",
                            "      <td>Medallion Leasing</td>\n",
                            "      <td>10367</td>\n",
                            "    </tr>\n",
                            "    <tr>\n",
                            "      <th>3</th>\n",
                            "      <td>Yellow Cab</td>\n",
                            "      <td>9888</td>\n",
                            "    </tr>\n",
                            "    <tr>\n",
                            "      <th>4</th>\n",
                            "      <td>Taxi Affiliation Service Yellow</td>\n",
                            "      <td>9299</td>\n",
                            "    </tr>\n",
                            "    <tr>\n",
                            "      <th>5</th>\n",
                            "      <td>Chicago Carriage Cab Corp</td>\n",
                            "      <td>9181</td>\n",
                            "    </tr>\n",
                            "    <tr>\n",
                            "      <th>6</th>\n",
                            "      <td>City Service</td>\n",
                            "      <td>8448</td>\n",
                            "    </tr>\n",
                            "    <tr>\n",
                            "      <th>7</th>\n",
                            "      <td>Sun Taxi</td>\n",
                            "      <td>7701</td>\n",
                            "    </tr>\n",
                            "    <tr>\n",
                            "      <th>8</th>\n",
                            "      <td>Star North Management LLC</td>\n",
                            "      <td>7455</td>\n",
                            "    </tr>\n",
                            "    <tr>\n",
                            "      <th>9</th>\n",
                            "      <td>Blue Ribbon Taxi Association Inc.</td>\n",
                            "      <td>5953</td>\n",
                            "    </tr>\n",
                            "  </tbody>\n",
                            "</table>\n",
                            "</div>"
                        ],
                        "text/plain": [
                            "                        company_name  trips_amount\n",
                            "0                          Flash Cab         19558\n",
                            "1          Taxi Affiliation Services         11422\n",
                            "2                  Medallion Leasing         10367\n",
                            "3                         Yellow Cab          9888\n",
                            "4    Taxi Affiliation Service Yellow          9299\n",
                            "5          Chicago Carriage Cab Corp          9181\n",
                            "6                       City Service          8448\n",
                            "7                           Sun Taxi          7701\n",
                            "8          Star North Management LLC          7455\n",
                            "9  Blue Ribbon Taxi Association Inc.          5953"
                        ]
                    },
                    "execution_count": 28,
                    "metadata": {},
                    "output_type": "execute_result"
                }
            ],
            "source": [
                "# fazer gráficos: empresas de táxi e número de corridas\n",
                "\n",
                "# preparando os dados para criar o primeiro gráfico\n",
                "sorted_trips = trips_amount.sort_values(by=\"trips_amount\", ascending=False)\n",
                "sorted_trips.head(10)"
            ]
        },
        {
            "cell_type": "code",
            "execution_count": 46,
            "metadata": {
                "scrolled": false
            },
            "outputs": [
                {
                    "data": {
                        "image/png": "[encoded data removed]",
                        "text/plain": [
                            "<Figure size 1600x900 with 1 Axes>"
                        ]
                    },
                    "metadata": {},
                    "output_type": "display_data"
                }
            ],
            "source": [
                "# plotando gráfico para empresas de taxi e número de corridas\n",
                "sorted_trips.head(10).plot(\n",
                "    kind=\"bar\",\n",
                "    x=\"company_name\",\n",
                "    y=\"trips_amount\",\n",
                "    ylabel=\"Qtde de corridas\",\n",
                "    edgecolor=\"black\",\n",
                "    title=\"Top 10 Empresas de Taxi x Corridas\",\n",
                "    figsize=[16,9],\n",
                "    legend=False,\n",
                "    rot=45\n",
                ")\n",
                "plt.show()"
            ]
        },
        {
            "cell_type": "markdown",
            "metadata": {},
            "source": [
                "Conclusion: The top 10 taxi companies are listed above, with Flash Cab making significantly more trips than the others."
            ]
        },
        {
            "cell_type": "code",
            "execution_count": 47,
            "metadata": {
                "scrolled": false
            },
            "outputs": [
                {
                    "data": {
                        "image/png": "[encoded data removed]",
                        "text/plain": [
                            "<Figure size 1600x900 with 1 Axes>"
                        ]
                    },
                    "metadata": {},
                    "output_type": "display_data"
                }
            ],
            "source": [
                "# plotando gráfico dos top 10 bairros de destino\n",
                "sorted_neighborhoods.head(10).plot(\n",
                "    kind=\"bar\",\n",
                "    x=\"dropoff_location_name\",\n",
                "    y=\"average_trips\",\n",
                "    ylabel=\"Qtde Média de Corridas\",\n",
                "    edgecolor=\"black\",\n",
                "    title=\"Top 10 bairros x Média de Corridas\",\n",
                "    figsize=[16,9],\n",
                "    legend=False,\n",
                "    rot=45\n",
                ")\n",
                "plt.show()"
            ]
        },
        {
            "cell_type": "markdown",
            "metadata": {},
            "source": [
                "Conclusion: We observe a higher average number of trips in the Loop and River North neighborhoods, followed by Streeterville and West Loop.\n",
                "\n",
                "General Conclusion So Far\n",
                "\n",
                "- Flash Cab generated the highest number of trips, almost double that of the second company with the most trips (Taxi Affiliation Services).\n",
                "The average number of trips by drop-off neighborhood is concentrated mainly in Loop and River North."
            ]
        },
        {
            "cell_type": "code",
            "execution_count": 51,
            "metadata": {},
            "outputs": [],
            "source": [
                "# Passo 5. Testando hipóteses (Python)\n",
                "# carregando novos dados\n",
                "\n",
                "loop_ohare = pd.read_csv(\"/datasets/project_sql_result_07.csv\")"
            ]
        },
        {
            "cell_type": "code",
            "execution_count": 49,
            "metadata": {
                "scrolled": true
            },
            "outputs": [
                {
                    "data": {
                        "text/html": [
                            "<div>\n",
                            "<style scoped>\n",
                            "    .dataframe tbody tr th:only-of-type {\n",
                            "        vertical-align: middle;\n",
                            "    }\n",
                            "\n",
                            "    .dataframe tbody tr th {\n",
                            "        vertical-align: top;\n",
                            "    }\n",
                            "\n",
                            "    .dataframe thead th {\n",
                            "        text-align: right;\n",
                            "    }\n",
                            "</style>\n",
                            "<table border=\"1\" class=\"dataframe\">\n",
                            "  <thead>\n",
                            "    <tr style=\"text-align: right;\">\n",
                            "      <th></th>\n",
                            "      <th>start_ts</th>\n",
                            "      <th>weather_conditions</th>\n",
                            "      <th>duration_seconds</th>\n",
                            "    </tr>\n",
                            "  </thead>\n",
                            "  <tbody>\n",
                            "    <tr>\n",
                            "      <th>198</th>\n",
                            "      <td>2017-11-11 14:00:00</td>\n",
                            "      <td>Good</td>\n",
                            "      <td>2225.0</td>\n",
                            "    </tr>\n",
                            "    <tr>\n",
                            "      <th>280</th>\n",
                            "      <td>2017-11-25 06:00:00</td>\n",
                            "      <td>Good</td>\n",
                            "      <td>2842.0</td>\n",
                            "    </tr>\n",
                            "    <tr>\n",
                            "      <th>291</th>\n",
                            "      <td>2017-11-11 07:00:00</td>\n",
                            "      <td>Good</td>\n",
                            "      <td>1440.0</td>\n",
                            "    </tr>\n",
                            "    <tr>\n",
                            "      <th>522</th>\n",
                            "      <td>2017-11-25 09:00:00</td>\n",
                            "      <td>Good</td>\n",
                            "      <td>1513.0</td>\n",
                            "    </tr>\n",
                            "    <tr>\n",
                            "      <th>1043</th>\n",
                            "      <td>2017-11-04 11:00:00</td>\n",
                            "      <td>Good</td>\n",
                            "      <td>2693.0</td>\n",
                            "    </tr>\n",
                            "    <tr>\n",
                            "      <th>883</th>\n",
                            "      <td>2017-11-04 08:00:00</td>\n",
                            "      <td>Good</td>\n",
                            "      <td>1690.0</td>\n",
                            "    </tr>\n",
                            "    <tr>\n",
                            "      <th>740</th>\n",
                            "      <td>2017-11-11 16:00:00</td>\n",
                            "      <td>Good</td>\n",
                            "      <td>2220.0</td>\n",
                            "    </tr>\n",
                            "    <tr>\n",
                            "      <th>945</th>\n",
                            "      <td>2017-11-04 15:00:00</td>\n",
                            "      <td>Good</td>\n",
                            "      <td>3699.0</td>\n",
                            "    </tr>\n",
                            "    <tr>\n",
                            "      <th>1034</th>\n",
                            "      <td>2017-11-11 10:00:00</td>\n",
                            "      <td>Good</td>\n",
                            "      <td>1500.0</td>\n",
                            "    </tr>\n",
                            "    <tr>\n",
                            "      <th>982</th>\n",
                            "      <td>2017-11-11 15:00:00</td>\n",
                            "      <td>Good</td>\n",
                            "      <td>2220.0</td>\n",
                            "    </tr>\n",
                            "  </tbody>\n",
                            "</table>\n",
                            "</div>"
                        ],
                        "text/plain": [
                            "                 start_ts weather_conditions  duration_seconds\n",
                            "198   2017-11-11 14:00:00               Good            2225.0\n",
                            "280   2017-11-25 06:00:00               Good            2842.0\n",
                            "291   2017-11-11 07:00:00               Good            1440.0\n",
                            "522   2017-11-25 09:00:00               Good            1513.0\n",
                            "1043  2017-11-04 11:00:00               Good            2693.0\n",
                            "883   2017-11-04 08:00:00               Good            1690.0\n",
                            "740   2017-11-11 16:00:00               Good            2220.0\n",
                            "945   2017-11-04 15:00:00               Good            3699.0\n",
                            "1034  2017-11-11 10:00:00               Good            1500.0\n",
                            "982   2017-11-11 15:00:00               Good            2220.0"
                        ]
                    },
                    "execution_count": 49,
                    "metadata": {},
                    "output_type": "execute_result"
                }
            ],
            "source": [
                "#visualizando os dados\n",
                "loop_ohare.sample(10)"
            ]
        },
        {
            "cell_type": "code",
            "execution_count": 50,
            "metadata": {
                "scrolled": false
            },
            "outputs": [
                {
                    "name": "stdout",
                    "output_type": "stream",
                    "text": [
                        "<class 'pandas.core.frame.DataFrame'>\n",
                        "RangeIndex: 1068 entries, 0 to 1067\n",
                        "Data columns (total 3 columns):\n",
                        " #   Column              Non-Null Count  Dtype  \n",
                        "---  ------              --------------  -----  \n",
                        " 0   start_ts            1068 non-null   object \n",
                        " 1   weather_conditions  1068 non-null   object \n",
                        " 2   duration_seconds    1068 non-null   float64\n",
                        "dtypes: float64(1), object(2)\n",
                        "memory usage: 25.2+ KB\n"
                    ]
                }
            ],
            "source": [
                "# visualizando os tipos de dados\n",
                "loop_ohare.info()"
            ]
        },
        {
            "cell_type": "markdown",
            "metadata": {},
            "source": [
                "Conclusão: start_ts could be converted to datetime but it's not necessary fdor this project, other data is ok"
            ]
        },
        {
            "cell_type": "code",
            "execution_count": 60,
            "metadata": {},
            "outputs": [
                {
                    "name": "stdout",
                    "output_type": "stream",
                    "text": [
                        "var sample 1: 575732.9308497686\n",
                        "var sample 2: 517403.56330246915\n"
                    ]
                }
            ],
            "source": [
                "# Teste a hipótese: \"A duração média dos passeios do Loop para o Aeroporto Internacional O'Hare muda nos sábados chuvosos.\" \n",
                "\n",
                "# H0 - A duração média dos passeios do Loop para o Aeroporto Internacional O'Hare NÃO muda nos sábados chuvosos\n",
                "# H1 - A duração média dos passeios do Loop para o Aeroporto Internacional O'Hare muda nos sábados chuvosos\n",
                "\n",
                "# preparando as amostras\n",
                "\n",
                "sample1 = loop_ohare[loop_ohare[\"weather_conditions\"] == \"Good\"][\"duration_seconds\"]\n",
                "sample2 = loop_ohare[loop_ohare[\"weather_conditions\"] == \"Bad\"][\"duration_seconds\"]\n",
                "\n",
                "alpha = .05\n",
                "\n",
                "# avaliando a variancia das duas amostras para decidir equal_var True ou False\n",
                "print(\"var sample 1:\", np.var(sample1))\n",
                "print(\"var sample 2:\", np.var(sample2))"
            ]
        },
        {
            "cell_type": "markdown",
            "metadata": {},
            "source": [
                "Sample 1 and 2 variances are not equal, therefore we set equal_var=False for the hypothesis test"
            ]
        },
        {
            "cell_type": "code",
            "execution_count": 63,
            "metadata": {},
            "outputs": [
                {
                    "name": "stdout",
                    "output_type": "stream",
                    "text": [
                        "valor-p: 6.738994326108734e-12\n",
                        "Rejeitamos a hipótese nula - portanto, a duração média dos passeios do Loop para o Aeroporto Internacional O'Hare muda nos sábados chuvosos\n"
                    ]
                }
            ],
            "source": [
                "# usando ttest_ind pois estamos comparando médias de duas populações\n",
                "# usando equal_var=False pois as amostras tem variancias diferentes\n",
                "\n",
                "results = st.ttest_ind(\n",
                "    sample1,\n",
                "    sample2,\n",
                "    equal_var=False\n",
                ")\n",
                "\n",
                "print('valor-p:', results.pvalue)\n",
                "\n",
                "if (results.pvalue < alpha):\n",
                "    print(\"Reject null hypothesis, therefore average trip duration from Loop to O'Hare changes on rainy saturdays\")\n",
                "else:\n",
                "    print(\"Can't reject null hypothesis, therefore average trip duration from Loop to O'Hare DOES NOT change on rainy saturdays\")"
            ]
        }
    ],
    "metadata": {
        "ExecuteTimeLog": [
            {
                "duration": 457,
                "start_time": "2024-07-07T17:46:54.256Z"
            },
            {
                "duration": 365,
                "start_time": "2024-07-07T17:47:42.699Z"
            },
            {
                "duration": 19,
                "start_time": "2024-07-07T17:47:46.856Z"
            },
            {
                "duration": 757,
                "start_time": "2024-07-07T17:48:34.907Z"
            },
            {
                "duration": 18,
                "start_time": "2024-07-07T17:48:47.506Z"
            },
            {
                "duration": 10,
                "start_time": "2024-07-07T17:48:59.506Z"
            },
            {
                "duration": 21,
                "start_time": "2024-07-07T17:49:31.716Z"
            },
            {
                "duration": 13,
                "start_time": "2024-07-07T17:49:35.355Z"
            },
            {
                "duration": 17,
                "start_time": "2024-07-07T17:50:12.692Z"
            },
            {
                "duration": 14,
                "start_time": "2024-07-07T17:50:19.916Z"
            },
            {
                "duration": 12,
                "start_time": "2024-07-07T17:50:26.208Z"
            },
            {
                "duration": 13,
                "start_time": "2024-07-07T17:50:37.323Z"
            },
            {
                "duration": 14,
                "start_time": "2024-07-07T17:51:15.387Z"
            },
            {
                "duration": 3,
                "start_time": "2024-07-07T17:53:08.424Z"
            },
            {
                "duration": 7,
                "start_time": "2024-07-07T17:55:14.002Z"
            },
            {
                "duration": 8,
                "start_time": "2024-07-07T17:57:17.153Z"
            },
            {
                "duration": 14,
                "start_time": "2024-07-07T17:57:47.648Z"
            },
            {
                "duration": 11,
                "start_time": "2024-07-07T17:59:47.499Z"
            },
            {
                "duration": 11,
                "start_time": "2024-07-07T18:00:35.254Z"
            },
            {
                "duration": 25,
                "start_time": "2024-07-07T18:01:47.280Z"
            },
            {
                "duration": 79,
                "start_time": "2024-07-07T18:03:05.493Z"
            },
            {
                "duration": 3861,
                "start_time": "2024-07-07T18:03:15.232Z"
            },
            {
                "duration": 7,
                "start_time": "2024-07-07T18:03:37.755Z"
            },
            {
                "duration": 11,
                "start_time": "2024-07-07T18:03:42.897Z"
            },
            {
                "duration": 34,
                "start_time": "2024-07-07T18:04:52.432Z"
            },
            {
                "duration": 12,
                "start_time": "2024-07-07T18:04:56.448Z"
            },
            {
                "duration": 1202,
                "start_time": "2024-07-07T18:05:31.756Z"
            },
            {
                "duration": 10,
                "start_time": "2024-07-07T18:05:52.424Z"
            },
            {
                "duration": 25,
                "start_time": "2024-07-07T18:06:04.599Z"
            },
            {
                "duration": 24,
                "start_time": "2024-07-07T18:06:09.196Z"
            },
            {
                "duration": 2122,
                "start_time": "2024-07-07T18:06:20.255Z"
            },
            {
                "duration": 9,
                "start_time": "2024-07-07T18:06:45.440Z"
            },
            {
                "duration": 2517,
                "start_time": "2024-07-07T18:07:19.777Z"
            },
            {
                "duration": 1525,
                "start_time": "2024-07-07T18:08:01.429Z"
            },
            {
                "duration": 354,
                "start_time": "2024-07-07T18:10:43.812Z"
            },
            {
                "duration": 1431,
                "start_time": "2024-07-07T18:11:05.837Z"
            },
            {
                "duration": 2325,
                "start_time": "2024-07-07T18:11:21.441Z"
            },
            {
                "duration": 1466,
                "start_time": "2024-07-07T18:11:28.908Z"
            },
            {
                "duration": 1666,
                "start_time": "2024-07-07T18:12:26.012Z"
            },
            {
                "duration": 7,
                "start_time": "2024-07-07T18:12:59.586Z"
            },
            {
                "duration": 1561,
                "start_time": "2024-07-07T18:13:03.082Z"
            },
            {
                "duration": 1470,
                "start_time": "2024-07-07T18:13:11.626Z"
            },
            {
                "duration": 6,
                "start_time": "2024-07-07T18:14:17.835Z"
            },
            {
                "duration": 1780,
                "start_time": "2024-07-07T18:14:29.819Z"
            },
            {
                "duration": 444,
                "start_time": "2024-07-07T18:16:25.021Z"
            },
            {
                "duration": 416,
                "start_time": "2024-07-07T18:17:20.201Z"
            },
            {
                "duration": 370,
                "start_time": "2024-07-07T19:37:19.142Z"
            },
            {
                "duration": 20,
                "start_time": "2024-07-07T19:42:16.292Z"
            },
            {
                "duration": 13,
                "start_time": "2024-07-07T19:42:49.927Z"
            },
            {
                "duration": 14,
                "start_time": "2024-07-07T19:43:02.376Z"
            },
            {
                "duration": 7,
                "start_time": "2024-07-07T19:43:04.300Z"
            },
            {
                "duration": 7,
                "start_time": "2024-07-07T19:45:30.285Z"
            },
            {
                "duration": 6,
                "start_time": "2024-07-07T19:45:45.133Z"
            },
            {
                "duration": 6,
                "start_time": "2024-07-07T19:45:51.749Z"
            },
            {
                "duration": 7,
                "start_time": "2024-07-07T19:45:56.129Z"
            },
            {
                "duration": 11,
                "start_time": "2024-07-07T19:48:01.195Z"
            },
            {
                "duration": 26,
                "start_time": "2024-07-07T19:48:14.426Z"
            },
            {
                "duration": 11,
                "start_time": "2024-07-07T19:48:21.930Z"
            },
            {
                "duration": 8,
                "start_time": "2024-07-07T19:48:30.515Z"
            },
            {
                "duration": 9,
                "start_time": "2024-07-07T19:52:05.521Z"
            },
            {
                "duration": 30,
                "start_time": "2024-07-07T19:53:31.609Z"
            },
            {
                "duration": 579,
                "start_time": "2024-07-07T19:53:51.071Z"
            },
            {
                "duration": 7,
                "start_time": "2024-07-07T19:53:59.621Z"
            }
        ],
        "kernelspec": {
            "display_name": "Python 3 (ipykernel)",
            "language": "python",
            "name": "python3"
        },
        "language_info": {
            "codemirror_mode": {
                "name": "ipython",
                "version": 3
            },
            "file_extension": ".py",
            "mimetype": "text/x-python",
            "name": "python",
            "nbconvert_exporter": "python",
            "pygments_lexer": "ipython3",
            "version": "3.9.19"
        },
        "toc": {
            "base_numbering": 1,
            "nav_menu": {},
            "number_sections": true,
            "sideBar": true,
            "skip_h1_title": true,
            "title_cell": "Table of Contents",
            "title_sidebar": "Contents",
            "toc_cell": false,
            "toc_position": {},
            "toc_section_display": true,
            "toc_window_display": false
        }
    },
    "nbformat": 4,
    "nbformat_minor": 2
}
